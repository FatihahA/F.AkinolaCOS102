{
 "cells": [
  {
   "cell_type": "code",
   "execution_count": null,
   "id": "fe439c24-d534-47e5-91bb-02de413d7d51",
   "metadata": {},
   "outputs": [],
   "source": [
    "radius = float(input(\"Input the radius of the circle: \"))\n",
    "def calculate_area(radius):\n",
    "    Area = 3.14 * radius ** 2\n",
    "    return Area\n",
    "\n",
    "print(\"The area of the circle is: \", calculate_area(radius))\n"
   ]
  },
  {
   "cell_type": "code",
   "execution_count": null,
   "id": "b86bbb2b-191d-4fef-b729-8752adfc68fd",
   "metadata": {},
   "outputs": [],
   "source": [
    "string = str(input(\"Input a string: \"))\n",
    "def is_palindrome(string):\n",
    "    return string == string[::-1]\n",
    "\n",
    "is_palindrome(string)"
   ]
  },
  {
   "cell_type": "code",
   "execution_count": null,
   "id": "d0a6fbd4-b30e-4fcf-a520-5ad127088cee",
   "metadata": {},
   "outputs": [],
   "source": [
    "num = int(input(\"Input a number: \"))\n",
    "def find_factors(num):\n",
    "    return [i for i in range(1, num + 1) if num % i == 0]\n",
    "\n",
    "print(\"The factors of your number are: \", find_factors(num))"
   ]
  },
  {
   "cell_type": "code",
   "execution_count": null,
   "id": "aaaffc79-5707-418d-9d9b-3f966e952537",
   "metadata": {},
   "outputs": [],
   "source": [
    "def modify_list(my_list):\n",
    "    my_list.append(4)\n",
    "    my_list = [7, 8, 9]\n",
    "    my_list.append(10)\n",
    "    return my_list\n",
    "\n",
    "original = [1, 2, 3]\n",
    "modified = modify_list(original)\n",
    "print(original)\n",
    "print(modified)\n",
    "\n",
    "\"\"\"\n",
    "[1, 2, 3, 4]\n",
    "[7, 8, 9, 10]\n",
    "\n",
    "The function first adds 4 to the original list (changing it to [1,2,3,4]),\n",
    "then creates a completely new list [7,8,9] and adds 10 to that.\n",
    "So the original list gets modified, while the returned list is brand new.\n",
    "\"\"\""
   ]
  },
  {
   "cell_type": "code",
   "execution_count": null,
   "id": "2b64d71a-5f07-4dc1-aa28-a1b23a5ca8a7",
   "metadata": {},
   "outputs": [],
   "source": [
    "List = [1, 2, 3, 4]\n",
    "def swap_first_last(List):\n",
    "    List[0], List[-1] = List[-1], List[0]\n",
    "\n",
    "swap_first_last(List)\n",
    "print(List)"
   ]
  },
  {
   "cell_type": "code",
   "execution_count": null,
   "id": "b24b8227-0cb9-4b81-a12c-29b0d7ed880f",
   "metadata": {},
   "outputs": [],
   "source": [
    "name = str(input(\"Please enter your name: \"))\n",
    "def greet(name, greeting=\"Hello\"):\n",
    "    return f\"{greeting} {name}\"\n",
    "\n",
    "greet(name)"
   ]
  },
  {
   "cell_type": "code",
   "execution_count": null,
   "id": "793b93d2-87f9-4f96-aeb5-5537eed83e2a",
   "metadata": {},
   "outputs": [],
   "source": [
    "x = 10\n",
    "def outer_func():\n",
    "    x = 20\n",
    "    def inner_func():\n",
    "        global x\n",
    "        x = 30\n",
    "    inner_func()\n",
    "    print(\"x in outer_func:\", x)\n",
    "    \n",
    "outer_func()\n",
    "print(\"x in global:\", x)\n",
    "\n",
    "'''\n",
    "x in outer_func: 20\n",
    "x in global: 30\n",
    "\n",
    "The inner function changes the main x to 30 globally, while the outer function keeps its own separate x as 20.\n",
    "This demonstrates the scope of variables in Python.\n",
    "It treats global and local variables as completely separate, even when they share the same name.\n",
    "'''"
   ]
  }
 ],
 "metadata": {
  "kernelspec": {
   "display_name": "Python [conda env:base] *",
   "language": "python",
   "name": "conda-base-py"
  },
  "language_info": {
   "codemirror_mode": {
    "name": "ipython",
    "version": 3
   },
   "file_extension": ".py",
   "mimetype": "text/x-python",
   "name": "python",
   "nbconvert_exporter": "python",
   "pygments_lexer": "ipython3",
   "version": "3.12.7"
  }
 },
 "nbformat": 4,
 "nbformat_minor": 5
}
