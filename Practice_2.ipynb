{
 "cells": [
  {
   "cell_type": "code",
   "execution_count": null,
   "id": "3f2df30d-5a35-4636-911c-1c21291bf8dc",
   "metadata": {},
   "outputs": [],
   "source": [
    "# Python program to print strings and type \n",
    "str1 = \"Hi my name is Matthew. I am String\" \n",
    "str2 = 'Hi my name is Precious. I am also a String' \n",
    "# displaying string str1 and its type \n",
    "print(str1) \n",
    "print(type(str1)) \n",
    "# displaying string str2 and its type \n",
    "print(str2) \n",
    "print(type(str2))"
   ]
  }
 ],
 "metadata": {
  "kernelspec": {
   "display_name": "Python 3 (ipykernel)",
   "language": "python",
   "name": "python3"
  },
  "language_info": {
   "codemirror_mode": {
    "name": "ipython",
    "version": 3
   },
   "file_extension": ".py",
   "mimetype": "text/x-python",
   "name": "python",
   "nbconvert_exporter": "python",
   "pygments_lexer": "ipython3",
   "version": "3.12.7"
  }
 },
 "nbformat": 4,
 "nbformat_minor": 5
}
