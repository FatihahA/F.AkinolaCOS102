{
 "cells": [
  {
   "cell_type": "code",
   "execution_count": null,
   "id": "d90aea27-8401-43d7-b8f5-c581a562b5ca",
   "metadata": {},
   "outputs": [
    {
     "name": "stdout",
     "output_type": "stream",
     "text": [
      "\n",
      "Choose an equation to solve:\n",
      "1. Quadratic (Ax² + Bx + C = 0)\n",
      "2. Cubic (Ax³ + Bx² + Cx + D = 0)\n",
      "3. Quartic (Ax⁴ + Bx³ + Cx² + Dx + E = 0)\n"
     ]
    },
    {
     "name": "stdin",
     "output_type": "stream",
     "text": [
      "Enter your choice (1-4):  1\n",
      "Enter A:  5\n",
      "Enter B:  9\n",
      "Enter C:  67\n"
     ]
    },
    {
     "name": "stdout",
     "output_type": "stream",
     "text": [
      "Complex roots: -0.9 + 3.5482389998420345 i and -0.9 - 3.5482389998420345 i\n",
      "\n",
      "Choose an equation to solve:\n",
      "1. Quadratic (Ax² + Bx + C = 0)\n",
      "2. Cubic (Ax³ + Bx² + Cx + D = 0)\n",
      "3. Quartic (Ax⁴ + Bx³ + Cx² + Dx + E = 0)\n"
     ]
    },
    {
     "name": "stdin",
     "output_type": "stream",
     "text": [
      "Enter your choice (1-4):  1\n",
      "Enter A:  1\n",
      "Enter B:  4\n",
      "Enter C:  10\n"
     ]
    },
    {
     "name": "stdout",
     "output_type": "stream",
     "text": [
      "Complex roots: -2.0 + 2.449489742783178 i and -2.0 - 2.449489742783178 i\n",
      "\n",
      "Choose an equation to solve:\n",
      "1. Quadratic (Ax² + Bx + C = 0)\n",
      "2. Cubic (Ax³ + Bx² + Cx + D = 0)\n",
      "3. Quartic (Ax⁴ + Bx³ + Cx² + Dx + E = 0)\n"
     ]
    }
   ],
   "source": [
    "while True:\n",
    "    print(\"\\nChoose an equation to solve:\")\n",
    "    print(\"1. Quadratic (Ax² + Bx + C = 0)\")\n",
    "    print(\"2. Cubic (Ax³ + Bx² + Cx + D = 0)\")\n",
    "    print(\"3. Quartic (Ax⁴ + Bx³ + Cx² + Dx + E = 0)\")\n",
    "\n",
    "    choice = input(\"Enter your choice (1-4): \")\n",
    "\n",
    "    if choice == \"1\":  # Quadratic: Ax² + Bx + C = 0\n",
    "        A = float(input(\"Enter A: \"))\n",
    "        B = float(input(\"Enter B: \"))\n",
    "        C = float(input(\"Enter C: \"))\n",
    "\n",
    "        D = B * B - 4 * A * C  # Discriminant\n",
    "\n",
    "        if D > 0:\n",
    "            x1 = (-B + D ** 0.5) / (2 * A)\n",
    "            x2 = (-B - D ** 0.5) / (2 * A)\n",
    "            print(\"Roots:\", x1, x2)\n",
    "        elif D == 0:\n",
    "            x = -B / (2 * A)\n",
    "            print(\"One root:\", x)\n",
    "        else:\n",
    "            real = -B / (2 * A)\n",
    "            imag = (-D) ** 0.5 / (2 * A)\n",
    "            print(\"Complex roots:\", real, \"+\", imag, \"i\", \"and\", real, \"-\", imag, \"i\")\n",
    "\n",
    "    elif choice == \"2\":  # Cubic: Ax³ + Bx² + Cx + D = 0 (Only one real root for simplicity)\n",
    "        A = float(input(\"Enter A: \"))\n",
    "        B = float(input(\"Enter B: \"))\n",
    "        C = float(input(\"Enter C: \"))\n",
    "        D = float(input(\"Enter D: \"))\n",
    "\n",
    "        p = (3 * A * C - B**2) / (3 * A**2)\n",
    "        q = (2 * B**3 - 9 * A * B * C + 27 * A**2 * D) / (27 * A**3)\n",
    "        discriminant = (q**2 / 4) + (p**3 / 27)\n",
    "\n",
    "        if discriminant > 0:\n",
    "            u = (-q / 2 + discriminant ** 0.5) ** (1 / 3)\n",
    "            v = (-q / 2 - discriminant ** 0.5) ** (1 / 3)\n",
    "            x = u + v - B / (3 * A)\n",
    "            print(\"One real root:\", x)\n",
    "\n",
    "        else:\n",
    "            print(\"More than one real root. This simple solver only finds one.\")\n",
    "\n",
    "    elif choice == \"3\":  # Quartic: Ax⁴ + Bx³ + Cx² + Dx + E = 0 (Simple Approximation)\n",
    "        print(\"Solving quartic equations is complicated!\")\n",
    "        print(\"Try factoring or using a numerical solver.\")\n",
    "\n",
    "    else:\n",
    "        print(\"Invalid choice. Try again.\")\n"
   ]
  }
 ],
 "metadata": {
  "kernelspec": {
   "display_name": "Python [conda env:base] *",
   "language": "python",
   "name": "conda-base-py"
  },
  "language_info": {
   "codemirror_mode": {
    "name": "ipython",
    "version": 3
   },
   "file_extension": ".py",
   "mimetype": "text/x-python",
   "name": "python",
   "nbconvert_exporter": "python",
   "pygments_lexer": "ipython3",
   "version": "3.12.7"
  }
 },
 "nbformat": 4,
 "nbformat_minor": 5
}
