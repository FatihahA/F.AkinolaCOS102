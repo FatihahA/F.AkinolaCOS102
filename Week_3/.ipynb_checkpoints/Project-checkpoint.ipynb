{
 "cells": [
  {
   "cell_type": "code",
   "execution_count": null,
   "id": "10f35fb6-c7dd-42f7-b415-92e2fa7364e8",
   "metadata": {},
   "outputs": [],
   "source": [
    "from tabulate import tabulate\n",
    "\n",
    "girls = {\n",
    "    \"Evelyn\": {\"Age\": 17, \"Height\": 5.5, \"Score\": 80},\n",
    "    \"Jessica\": {\"Age\": 16, \"Height\": 6.0, \"Score\": 85},\n",
    "    \"Somto\": {\"Age\": 17, \"Height\": 5.4, \"Score\": 70},\n",
    "    \"Edith\": {\"Age\": 18, \"Height\": 5.9, \"Score\": 60},\n",
    "    \"Liza\": {\"Age\": 16, \"Height\": 5.6, \"Score\": 76},\n",
    "    \"Madonna\": {\"Age\": 18, \"Height\": 5.5, \"Score\": 66},\n",
    "    \"Waje\": {\"Age\": 17, \"Height\": 6.1, \"Score\": 87},\n",
    "    \"Tola\": {\"Age\": 20, \"Height\": 6.0, \"Score\": 95},\n",
    "    \"Aisha\": {\"Age\": 19, \"Height\": 5.7, \"Score\": 50},\n",
    "    \"Latifa\": {\"Age\": 17, \"Height\": 5.5, \"Score\": 49}\n",
    "}\n",
    "\n",
    "boys = {\n",
    "    \"Chinedu\": {\"Age\": 19, \"Height\": 5.7, \"Score\": 74},\n",
    "    \"Liam\": {\"Age\": 16, \"Height\": 5.9, \"Score\": 87},\n",
    "    \"Wale\": {\"Age\": 18, \"Height\": 5.8, \"Score\": 75},\n",
    "    \"Gbenga\": {\"Age\": 17, \"Height\": 6.1, \"Score\": 68},\n",
    "    \"Abiola\": {\"Age\": 20, \"Height\": 5.9, \"Score\": 66},\n",
    "    \"Kola\": {\"Age\": 19, \"Height\": 5.5, \"Score\": 78},\n",
    "    \"Kunle\": {\"Age\": 16, \"Height\": 6.1, \"Score\": 87},\n",
    "    \"George\": {\"Age\": 18, \"Height\": 5.4, \"Score\": 98},\n",
    "    \"Thomas\": {\"Age\": 17, \"Height\": 5.8, \"Score\": 54},\n",
    "    \"Wesley\": {\"Age\": 19, \"Height\": 5.7, \"Score\": 60}\n",
    "}\n",
    "\n",
    "students = {**girls, **boys}       #Combines the two tables\n",
    "\n",
    "table_data = []\n",
    "for name, info in students.items():\n",
    "    table_data.append([name, info[\"Age\"], info[\"Height\"], info[\"Score\"]])\n",
    "\n",
    "print(tabulate(table_data, headers=[\"Name\", \"Age\", \"Height\", \"Score\"], tablefmt=\"grid\"))"
   ]
  },
  {
   "cell_type": "code",
   "execution_count": null,
   "id": "145189d5-905c-45f1-bf96-56805bfd7368",
   "metadata": {},
   "outputs": [],
   "source": [
    "print(\"Izifin Technology Tax Calculator\")\n",
    "print(\"Please enter your age and years of experience\")\n",
    "\n",
    "experience = float(input(\"Enter years of experience: \"))\n",
    "age = int(input(\"Enter age: \"))\n",
    "\n",
    "if experience > 25 and age >= 55:\n",
    "    tax = 5_600_000\n",
    "elif experience > 20 and age >= 45:\n",
    "    tax = 4_480_000\n",
    "elif experience > 10 and age >= 35:\n",
    "    tax = 1_500_000\n",
    "else:\n",
    "    tax = 550_000\n",
    "\n",
    "print(\"Annual Tax Revenue: N\", tax )"
   ]
  }
 ],
 "metadata": {
  "kernelspec": {
   "display_name": "Python [conda env:base] *",
   "language": "python",
   "name": "conda-base-py"
  },
  "language_info": {
   "codemirror_mode": {
    "name": "ipython",
    "version": 3
   },
   "file_extension": ".py",
   "mimetype": "text/x-python",
   "name": "python",
   "nbconvert_exporter": "python",
   "pygments_lexer": "ipython3",
   "version": "3.12.7"
  }
 },
 "nbformat": 4,
 "nbformat_minor": 5
}
